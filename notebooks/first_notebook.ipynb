{
 "cells": [
  {
   "cell_type": "markdown",
   "id": "a74ea717-2235-4352-9812-1bd8dd8862d7",
   "metadata": {},
   "source": [
    "### **Problemas para mejorar la lógica en programación usando el lenguaje de programación Python**"
   ]
  },
  {
   "cell_type": "code",
   "execution_count": 1,
   "id": "20eb61fb-364d-46d4-94a0-12deded062e0",
   "metadata": {},
   "outputs": [
    {
     "name": "stderr",
     "output_type": "stream",
     "text": [
      "C:\\Users\\Fabrizio\\anaconda3\\lib\\site-packages\\pandas\\core\\computation\\expressions.py:21: UserWarning: Pandas requires version '2.8.0' or newer of 'numexpr' (version '2.7.3' currently installed).\n",
      "  from pandas.core.computation.check import NUMEXPR_INSTALLED\n",
      "C:\\Users\\Fabrizio\\anaconda3\\lib\\site-packages\\pandas\\core\\arrays\\masked.py:62: UserWarning: Pandas requires version '1.3.4' or newer of 'bottleneck' (version '1.3.2' currently installed).\n",
      "  from pandas.core import (\n"
     ]
    }
   ],
   "source": [
    "import pandas as pd\n",
    "import numpy as np\n",
    "import warnings\n",
    "warnings.filterwarnings('ignore')"
   ]
  },
  {
   "cell_type": "markdown",
   "id": "d8bbbafc-62ff-4e48-8da4-b98692051055",
   "metadata": {
    "tags": []
   },
   "source": [
    "### **Problema N° 1**\n",
    "In this kata you will create a function that takes a list of non-negative integers and strings and returns a new list with the strings filtered out.\n",
    "\n",
    "Example\n",
    "\n",
    "```python\n",
    "filter_list([1,2,'a','b']) == [1,2]\n",
    "filter_list([1,'a','b',0,15]) == [1,0,15]\n",
    "filter_list([1,2,'aasf','1','123',123]) == [1,2,123]\n",
    "```"
   ]
  },
  {
   "cell_type": "code",
   "execution_count": 2,
   "id": "a2064c1b-a8ae-4be4-89f5-8dba2a439ac4",
   "metadata": {},
   "outputs": [
    {
     "data": {
      "text/plain": [
       "[1, 2]"
      ]
     },
     "execution_count": 2,
     "metadata": {},
     "output_type": "execute_result"
    }
   ],
   "source": [
    "def filter_list(list):\n",
    "    new_list = [e for e in list if isinstance(e, int)]\n",
    "    return new_list\n",
    "\n",
    "# Test\n",
    "filter_list([1,2,'a','b'])"
   ]
  },
  {
   "cell_type": "markdown",
   "id": "a9196ada-e78c-4723-96f9-b8e609debedb",
   "metadata": {},
   "source": [
    "### **Problema N° 2**\n",
    "A pangram is a sentence that contains every single letter of the alphabet at least once. For example, the sentence \"The quick brown fox jumps over the lazy dog\" is a pangram, because it uses the letters A-Z at least once (case is irrelevant).\n",
    "\n",
    "Given a string, detect whether or not it is a pangram. Return True if it is, False if not. Ignore numbers and punctuation.\n"
   ]
  },
  {
   "cell_type": "code",
   "execution_count": 3,
   "id": "1ae6677f-fcdb-45c4-8cd4-94e639b6db07",
   "metadata": {},
   "outputs": [],
   "source": [
    "def ispangram(string):\n",
    "    # Ignore number and puntuaction, only letters A-Z\n",
    "    string_new = ''.join(e if e.isalpha() else '' for e in string)\n",
    "    # Convert string to lower\n",
    "    string_new = string_new.lower()\n",
    "    list_new = [e for e in string_new]\n",
    "    df = pd.DataFrame(list_new, columns = ['Letters'])\n",
    "    len_of_df = len(df[\"Letters\"].unique())\n",
    "    if len_of_df == 26:\n",
    "        return True\n",
    "    else:\n",
    "        return False"
   ]
  },
  {
   "cell_type": "code",
   "execution_count": 4,
   "id": "09145bd8-5ad2-40ca-8b65-d72f92a10c09",
   "metadata": {},
   "outputs": [
    {
     "data": {
      "text/plain": [
       "False"
      ]
     },
     "execution_count": 4,
     "metadata": {},
     "output_type": "execute_result"
    }
   ],
   "source": [
    "ispangram('1bcdefghijklmnopqrstuvwxyz')"
   ]
  },
  {
   "cell_type": "markdown",
   "id": "0e6c6770",
   "metadata": {},
   "source": [
    "### Problema N° 3\n",
    "Some numbers have funny properties. For example:\n",
    "\n",
    "89 --> 8¹ + 9² = 89 * 1\n",
    "\n",
    "695 --> 6² + 9³ + 5⁴= 1390 = 695 * 2\n",
    "\n",
    "46288 --> 4³ + 6⁴+ 2⁵ + 8⁶ + 8⁷ = 2360688 = 46288 * 51\n",
    "\n",
    "Given two positive integers n and p, we want to find a positive integer k, if it exists, such that the sum of the digits of n raised to consecutive powers starting from p is equal to k * n.\n",
    "\n",
    "In other words, writing the consecutive digits of n as a, b, c, d ..., is there an integer k such that :\n",
    "\n",
    "\n",
    "If it is the case we will return k, if not return -1.\n",
    "\n",
    "Note: n and p will always be strictly positive integers."
   ]
  },
  {
   "cell_type": "code",
   "execution_count": 81,
   "id": "66ac2cea-644c-4b5d-b6e7-967bbf43fae3",
   "metadata": {},
   "outputs": [
    {
     "data": {
      "text/plain": [
       "1"
      ]
     },
     "execution_count": 81,
     "metadata": {},
     "output_type": "execute_result"
    }
   ],
   "source": [
    "def dig_now(n,p):\n",
    "    if n <= 0:\n",
    "        return \"You must write a positive integer of n.\"\n",
    "    if p <= 0:\n",
    "        return \"You must write a positive integer of p.\"\n",
    "    n_arr = [int(i) for i in str(n)]\n",
    "    p_arr = [i for i in range(p, len(n_arr) + p)]\n",
    "    prev_result = sum([x ** y for x,y in zip(n_arr, p_arr)])\n",
    "    if prev_result%n == 0:\n",
    "        return int(prev_result/n)\n",
    "    return -1\n",
    "    \n",
    "dig_now(89,1)"
   ]
  },
  {
   "cell_type": "markdown",
   "id": "75926875",
   "metadata": {},
   "source": [
    "### Problema N° 4:\n",
    "\n",
    "Write a function, persistence, that takes in a positive parameter num and returns its multiplicative persistence, which is the number of times you must multiply the digits in num until you reach a single digit.\n",
    "\n",
    "```python\n",
    "39 --> 3 (because 3*9 = 27, 2*7 = 14, 1*4 = 4 and 4 has only one digit, there are 3 multiplications)\n",
    "\n",
    "999 --> 4 (because 9*9*9 = 729, 7*2*9 = 126, 1*2*6 = 12, and finally 1*2 = 2, there are 4 multiplications)\n",
    "\n",
    "4 --> 0 (because 4 is already a one-digit number, there is no multiplication)\n",
    "```"
   ]
  },
  {
   "cell_type": "code",
   "execution_count": 105,
   "id": "23fd3095",
   "metadata": {},
   "outputs": [],
   "source": [
    "def multiply(n):\n",
    "    initial = 1\n",
    "    for i in n:\n",
    "        initial *= i\n",
    "    return initial"
   ]
  },
  {
   "cell_type": "code",
   "execution_count": 108,
   "id": "6b7975fe",
   "metadata": {},
   "outputs": [
    {
     "data": {
      "text/plain": [
       "0"
      ]
     },
     "execution_count": 108,
     "metadata": {},
     "output_type": "execute_result"
    }
   ],
   "source": [
    "def persistence(n):\n",
    "    numbers_multiplicative_persistence = []\n",
    "    if n <= 9: return 0\n",
    "    while n > 9:\n",
    "        operations = [int(i) for i in str(n)]\n",
    "        operations = multiply(operations)\n",
    "        numbers_multiplicative_persistence.append(operations)\n",
    "        n = operations\n",
    "        print(numbers_multiplicative_persistence)\n",
    "    return len(numbers_multiplicative_persistence)\n",
    "\n",
    "persistence(4)"
   ]
  },
  {
   "cell_type": "markdown",
   "id": "e8948625",
   "metadata": {},
   "source": [
    "### **Problema N° 5**\n",
    "\n",
    "There is a bus moving in the city which takes and drops some people at each bus stop.\n",
    "\n",
    "You are provided with a list (or array) of integer pairs. Elements of each pair represent the number of people that get on the bus (the first item) and the number of people that get off the bus (the second item) at a bus stop.\n",
    "\n",
    "Your task is to return the number of people who are still on the bus after the last bus stop (after the last array). Even though it is the last bus stop, the bus might not be empty and some people might still be inside the bus, they are probably sleeping there :D\n",
    "\n",
    "Take a look on the test cases.\n",
    "\n",
    "Please keep in mind that the test cases ensure that the number of people in the bus is always >= 0. So the returned integer can't be negative.\n",
    "\n",
    "The second value in the first pair in the array is 0, since the bus is empty in the first bus stop."
   ]
  },
  {
   "cell_type": "code",
   "execution_count": 150,
   "id": "9ef9e949",
   "metadata": {},
   "outputs": [
    {
     "data": {
      "text/plain": [
       "17"
      ]
     },
     "execution_count": 150,
     "metadata": {},
     "output_type": "execute_result"
    }
   ],
   "source": [
    "def number(bus_stops):\n",
    "    if bus_stops[0][1] > 0: return \"Something is wrong!\"\n",
    "    arr_flatten = [item for i in bus_stops for item in i]\n",
    "    arr_get_on = sum([value for index, value in enumerate(arr_flatten) if index%2 == 0])\n",
    "    arr_get_off = sum([value for index, value in enumerate(arr_flatten) if index%2 != 0])\n",
    "    result = arr_get_on - arr_get_off\n",
    "    if result < 0: return \"Something is wrong!\"\n",
    "    return result\n",
    "\n",
    "number([[3,0],[9,1],[4,10],[12,2],[6,1],[7,10]])"
   ]
  },
  {
   "cell_type": "code",
   "execution_count": 149,
   "id": "c493196b",
   "metadata": {},
   "outputs": [
    {
     "data": {
      "text/plain": [
       "17"
      ]
     },
     "execution_count": 149,
     "metadata": {},
     "output_type": "execute_result"
    }
   ],
   "source": [
    "arr = [[3,0],[9,1],[4,10],[12,2],[6,1],[7,10]]\n",
    "sum([i[0] - i[1] for i in arr])"
   ]
  }
 ],
 "metadata": {
  "kernelspec": {
   "display_name": "Python 3 (ipykernel)",
   "language": "python",
   "name": "python3"
  },
  "language_info": {
   "codemirror_mode": {
    "name": "ipython",
    "version": 3
   },
   "file_extension": ".py",
   "mimetype": "text/x-python",
   "name": "python",
   "nbconvert_exporter": "python",
   "pygments_lexer": "ipython3",
   "version": "3.9.7"
  }
 },
 "nbformat": 4,
 "nbformat_minor": 5
}
