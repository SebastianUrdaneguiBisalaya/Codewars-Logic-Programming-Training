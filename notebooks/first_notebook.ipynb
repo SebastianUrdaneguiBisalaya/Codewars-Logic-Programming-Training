{
 "cells": [
  {
   "cell_type": "markdown",
   "id": "a74ea717-2235-4352-9812-1bd8dd8862d7",
   "metadata": {},
   "source": [
    "### **Problemas para mejorar la lógica en programación usando el lenguaje de programación Python**"
   ]
  },
  {
   "cell_type": "code",
   "execution_count": 2,
   "id": "20eb61fb-364d-46d4-94a0-12deded062e0",
   "metadata": {},
   "outputs": [],
   "source": [
    "import pandas as pd\n",
    "import numpy as np\n",
    "import warnings\n",
    "warnings.filterwarnings('ignore')"
   ]
  },
  {
   "cell_type": "markdown",
   "id": "d8bbbafc-62ff-4e48-8da4-b98692051055",
   "metadata": {
    "tags": []
   },
   "source": [
    "### **Problema N° 1**\n",
    "In this kata you will create a function that takes a list of non-negative integers and strings and returns a new list with the strings filtered out.\n",
    "\n",
    "Example\n",
    "\n",
    "```python\n",
    "filter_list([1,2,'a','b']) == [1,2]\n",
    "filter_list([1,'a','b',0,15]) == [1,0,15]\n",
    "filter_list([1,2,'aasf','1','123',123]) == [1,2,123]\n",
    "```"
   ]
  },
  {
   "cell_type": "code",
   "execution_count": 6,
   "id": "a2064c1b-a8ae-4be4-89f5-8dba2a439ac4",
   "metadata": {},
   "outputs": [
    {
     "data": {
      "text/plain": [
       "[1, 2]"
      ]
     },
     "execution_count": 6,
     "metadata": {},
     "output_type": "execute_result"
    }
   ],
   "source": [
    "def filter_list(list):\n",
    "    new_list = [e for e in list if isinstance(e, int)]\n",
    "    return new_list\n",
    "\n",
    "# Test\n",
    "filter_list([1,2,'a','b'])"
   ]
  },
  {
   "cell_type": "markdown",
   "id": "a9196ada-e78c-4723-96f9-b8e609debedb",
   "metadata": {},
   "source": [
    "### **Problema N° 2**\n",
    "A pangram is a sentence that contains every single letter of the alphabet at least once. For example, the sentence \"The quick brown fox jumps over the lazy dog\" is a pangram, because it uses the letters A-Z at least once (case is irrelevant).\n",
    "\n",
    "Given a string, detect whether or not it is a pangram. Return True if it is, False if not. Ignore numbers and punctuation.\n"
   ]
  },
  {
   "cell_type": "code",
   "execution_count": 28,
   "id": "1ae6677f-fcdb-45c4-8cd4-94e639b6db07",
   "metadata": {},
   "outputs": [],
   "source": [
    "def ispangram(string):\n",
    "    # Ignore number and puntuaction, only letters A-Z\n",
    "    string_new = ''.join(e if e.isalpha() else '' for e in string)\n",
    "    # Convert string to lower\n",
    "    string_new = string_new.lower()\n",
    "    list_new = [e for e in string_new]\n",
    "    df = pd.DataFrame(list_new, columns = ['Letters'])\n",
    "    len_of_df = len(df[\"Letters\"].unique())\n",
    "    if len_of_df == 26:\n",
    "        return True\n",
    "    else:\n",
    "        return False"
   ]
  },
  {
   "cell_type": "code",
   "execution_count": 31,
   "id": "09145bd8-5ad2-40ca-8b65-d72f92a10c09",
   "metadata": {},
   "outputs": [
    {
     "data": {
      "text/plain": [
       "False"
      ]
     },
     "execution_count": 31,
     "metadata": {},
     "output_type": "execute_result"
    }
   ],
   "source": [
    "ispangram('1bcdefghijklmnopqrstuvwxyz')"
   ]
  },
  {
   "cell_type": "code",
   "execution_count": null,
   "id": "f5c5835f-5ee7-45e7-b0d1-a59d01aaf03c",
   "metadata": {},
   "outputs": [],
   "source": []
  },
  {
   "cell_type": "code",
   "execution_count": null,
   "id": "66ac2cea-644c-4b5d-b6e7-967bbf43fae3",
   "metadata": {},
   "outputs": [],
   "source": []
  }
 ],
 "metadata": {
  "kernelspec": {
   "display_name": "Python 3 (ipykernel)",
   "language": "python",
   "name": "python3"
  },
  "language_info": {
   "codemirror_mode": {
    "name": "ipython",
    "version": 3
   },
   "file_extension": ".py",
   "mimetype": "text/x-python",
   "name": "python",
   "nbconvert_exporter": "python",
   "pygments_lexer": "ipython3",
   "version": "3.9.7"
  }
 },
 "nbformat": 4,
 "nbformat_minor": 5
}
